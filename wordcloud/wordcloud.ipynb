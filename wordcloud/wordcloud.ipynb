{
 "cells": [
  {
   "cell_type": "code",
   "execution_count": null,
   "id": "cec2ebf5",
   "metadata": {},
   "outputs": [],
   "source": [
    "from wordcloud import WordCloud, STOPWORDS, ImageColorGenerator\n",
    "import matplotlib.pyplot as plt\n",
    "import pandas as pd\n",
    "from PIL import Image\n",
    "import numpy as np"
   ]
  },
  {
   "cell_type": "code",
   "execution_count": null,
   "id": "aeb7f096",
   "metadata": {},
   "outputs": [],
   "source": [
    "def color_func(dictionary, color):\n",
    "    value_max = max(dictionary.values())\n",
    "    value_min = min(dictionary.values())\n",
    "    RGB_rate = 255 / (value_max - value_min)\n",
    "    \n",
    "    def inner(word, font_size, position, orientation, random_state=None, **kwargs):\n",
    "        RGB_score = (dictionary[word] - value_min) * RGB_rate\n",
    "        \n",
    "        if(color == \"green\"):\n",
    "            return \"RGB(%d,%d,%d)\" % ( 0   ,  224-  RGB_score/2  , 0 )\n",
    "\n",
    "        if(color == \"blue\"):\n",
    "            return \"RGB(%d,%d,%d)\" % ( 0,    192 - RGB_score/4*3    ,   255 - RGB_score/4    )\n",
    "    \n",
    "        if(color == \"red\"):\n",
    "            return \"RGB(%d,%d,%d)\" % ( 255 ,    192 - RGB_score/4*3    ,   0    )\n",
    "\n",
    "        if(color == \"gray\"):\n",
    "            return \"RGB(%d,%d,%d)\" % ( 96 - RGB_score/8*3   ,  96 - RGB_score/8*3   ,  96 - RGB_score/8*3   )\n",
    "\n",
    "    return inner"
   ]
  },
  {
   "cell_type": "code",
   "execution_count": null,
   "id": "80ee8ee8",
   "metadata": {
    "scrolled": false
   },
   "outputs": [],
   "source": [
    "name = \"wc7-3\"\n",
    "\n",
    "# color = \"green\"\n",
    "# color = \"blue\"\n",
    "# color = \"red\"\n",
    "color = \"gray\"\n",
    "\n",
    "# mask = Image.open('ellipse_big.png')\n",
    "# mask = Image.open('ellipse_middle.png')\n",
    "mask = Image.open('ellipse_small.png')\n",
    "\n",
    "df_group=pd.read_csv(name + '.csv', index_col=0)\n",
    "dic = df_group['score'].to_dict()\n",
    "mask = np.array(mask)\n",
    "\n",
    "ransta = 0\n",
    "\n",
    "wordcloud = WordCloud(background_color = \"white\",\n",
    "                  min_font_size = 1,\n",
    "                  font_path='SIMSUN.ttf',\n",
    "                  scale = 10,\n",
    "                  # colormap='autumn',\n",
    "                  prefer_horizontal = 1,\n",
    "                  mask=mask,\n",
    "                  max_font_size = 50,\n",
    "                  random_state = ransta,\n",
    "                  color_func=color_func(dic, color)\n",
    "                  ).generate_from_frequencies(dic)\n",
    "\n",
    "plt.figure(figsize = (10, 10), facecolor = None)  \n",
    "plt.imshow(wordcloud)\n",
    "plt.axis(\"off\")\n",
    "plt.tight_layout(pad = 0)\n",
    "plt.show()\n",
    "\n",
    "wordcloud.to_file(name + '.png')"
   ]
  }
 ],
 "metadata": {
  "kernelspec": {
   "display_name": "Python 3",
   "language": "python",
   "name": "python3"
  },
  "language_info": {
   "codemirror_mode": {
    "name": "ipython",
    "version": 3
   },
   "file_extension": ".py",
   "mimetype": "text/x-python",
   "name": "python",
   "nbconvert_exporter": "python",
   "pygments_lexer": "ipython3",
   "version": "3.8.8"
  }
 },
 "nbformat": 4,
 "nbformat_minor": 5
}
