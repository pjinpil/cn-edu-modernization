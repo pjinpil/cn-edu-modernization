{
 "cells": [
  {
   "cell_type": "code",
   "execution_count": null,
   "id": "c82e76e1",
   "metadata": {},
   "outputs": [],
   "source": [
    "f = open('2021_parsed_list.txt', 'r', encoding='utf-8')\n",
    "data = f.read()\n",
    "f.close()\n",
    "\n",
    "data_split = data.split('  ')\n",
    "\n",
    "data_11_kind = []\n",
    "\n",
    "for i in data_split:\n",
    "    \n",
    "    if(i[i.index('/')+1:] == 'ni'):\n",
    "        data_11_kind.append(i[:i.index('/')])\n",
    "        \n",
    "    elif(i[i.index('/')+1:] == 'v'):\n",
    "        data_11_kind.append(i[:i.index('/')])\n",
    "        \n",
    "    elif(i[i.index('/')+1:] == 'n'):\n",
    "        data_11_kind.append(i[:i.index('/')])\n",
    "        \n",
    "    elif(i[i.index('/')+1:] == 'nd'):\n",
    "        data_11_kind.append(i[:i.index('/')])\n",
    "        \n",
    "    elif(i[i.index('/')+1:] == 'ws'):\n",
    "        data_11_kind.append(i[:i.index('/')])\n",
    "        \n",
    "    elif(i[i.index('/')+1:] == 'i'):\n",
    "        data_11_kind.append(i[:i.index('/')])\n",
    "        \n",
    "    elif(i[i.index('/')+1:] == 'nt'):\n",
    "        data_11_kind.append(i[:i.index('/')])\n",
    "        \n",
    "    elif(i[i.index('/')+1:] == 'nh'):\n",
    "        data_11_kind.append(i[:i.index('/')])\n",
    "        \n",
    "    elif(i[i.index('/')+1:] == 'ns'):\n",
    "        data_11_kind.append(i[:i.index('/')])\n",
    "        \n",
    "    elif(i[i.index('/')+1:] == 'nl'):\n",
    "        data_11_kind.append(i[:i.index('/')])\n",
    "        \n",
    "    elif(i[i.index('/')+1:] == 'j'):\n",
    "        data_11_kind.append(i[:i.index('/')])\n",
    "        \n",
    "    pass\n",
    "\n",
    "ff = open('2021_11_kinds_words.txt', 'w', encoding='utf-8')\n",
    "for i in data_11_kind:\n",
    "    ff.write(i + ' ')\n",
    "ff.close()"
   ]
  }
 ],
 "metadata": {
  "kernelspec": {
   "display_name": "Python 3",
   "language": "python",
   "name": "python3"
  },
  "language_info": {
   "codemirror_mode": {
    "name": "ipython",
    "version": 3
   },
   "file_extension": ".py",
   "mimetype": "text/x-python",
   "name": "python",
   "nbconvert_exporter": "python",
   "pygments_lexer": "ipython3",
   "version": "3.8.8"
  }
 },
 "nbformat": 4,
 "nbformat_minor": 5
}
